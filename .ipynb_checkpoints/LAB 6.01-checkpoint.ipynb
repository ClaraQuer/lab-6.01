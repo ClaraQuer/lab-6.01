{
 "cells": [
  {
   "cell_type": "code",
   "execution_count": 1,
   "id": "1f4280b9",
   "metadata": {},
   "outputs": [],
   "source": [
    "from bs4 import BeautifulSoup\n",
    "import requests\n",
    "import pandas as pd"
   ]
  },
  {
   "cell_type": "code",
   "execution_count": 2,
   "id": "86126c41",
   "metadata": {},
   "outputs": [],
   "source": [
    "url = \"http://www.popvortex.com/music/charts/top-100-songs.php\""
   ]
  },
  {
   "cell_type": "code",
   "execution_count": 3,
   "id": "0881f601",
   "metadata": {},
   "outputs": [
    {
     "data": {
      "text/plain": [
       "200"
      ]
     },
     "execution_count": 3,
     "metadata": {},
     "output_type": "execute_result"
    }
   ],
   "source": [
    "response = requests.get(url)\n",
    "response.status_code"
   ]
  },
  {
   "cell_type": "code",
   "execution_count": 4,
   "id": "b4bf0a0b",
   "metadata": {},
   "outputs": [],
   "source": [
    "soup = BeautifulSoup(response.content, \"html.parser\")"
   ]
  },
  {
   "cell_type": "code",
   "execution_count": 5,
   "id": "dece89e6",
   "metadata": {},
   "outputs": [
    {
     "data": {
      "text/plain": [
       "[<p class=\"title-artist\"><cite class=\"title\">That That (prod. &amp; feat. SUGA of BTS)</cite><em class=\"artist\">PSY</em></p>,\n",
       " <p class=\"title-artist\"><cite class=\"title\">As It Was</cite><em class=\"artist\">Harry Styles</em></p>,\n",
       " <p class=\"title-artist\"><cite class=\"title\">First Class</cite><em class=\"artist\">Jack Harlow</em></p>,\n",
       " <p class=\"title-artist\"><cite class=\"title\">Grandpa (Tell Me 'Bout the Good Old Days)</cite><em class=\"artist\">The Judds</em></p>,\n",
       " <p class=\"title-artist\"><cite class=\"title\">About Damn Time</cite><em class=\"artist\">Lizzo</em></p>,\n",
       " <p class=\"title-artist\"><cite class=\"title\">Kryptonite</cite><em class=\"artist\">3 Doors Down</em></p>,\n",
       " <p class=\"title-artist\"><cite class=\"title\">Love Can Build a Bridge</cite><em class=\"artist\">The Judds</em></p>,\n",
       " <p class=\"title-artist\"><cite class=\"title\">Love Can Build A Bridge (Single Edit)</cite><em class=\"artist\">The Judds</em></p>,\n",
       " <p class=\"title-artist\"><cite class=\"title\">Why Not Me</cite><em class=\"artist\">The Judds</em></p>,\n",
       " <p class=\"title-artist\"><cite class=\"title\">AA</cite><em class=\"artist\">Walker Hayes</em></p>,\n",
       " <p class=\"title-artist\"><cite class=\"title\">Here Without You</cite><em class=\"artist\">3 Doors Down</em></p>,\n",
       " <p class=\"title-artist\"><cite class=\"title\">Have You Ever Seen the Rain</cite><em class=\"artist\">Creedence Clearwater Revival</em></p>,\n",
       " <p class=\"title-artist\"><cite class=\"title\">Cold Heart (PNAU Remix)</cite><em class=\"artist\">Elton John &amp; Dua Lipa</em></p>,\n",
       " <p class=\"title-artist\"><cite class=\"title\">Island In the Sun</cite><em class=\"artist\">Weezer</em></p>,\n",
       " <p class=\"title-artist\"><cite class=\"title\">If I Was a Cowboy</cite><em class=\"artist\">Miranda Lambert</em></p>,\n",
       " <p class=\"title-artist\"><cite class=\"title\">Don't Think Jesus</cite><em class=\"artist\">Morgan Wallen</em></p>,\n",
       " <p class=\"title-artist\"><cite class=\"title\">'Til You Can't</cite><em class=\"artist\">Cody Johnson</em></p>,\n",
       " <p class=\"title-artist\"><cite class=\"title\">Bam Bam (feat. Ed Sheeran)</cite><em class=\"artist\">Camila Cabello</em></p>,\n",
       " <p class=\"title-artist\"><cite class=\"title\">Big Energy</cite><em class=\"artist\">Latto</em></p>,\n",
       " <p class=\"title-artist\"><cite class=\"title\">What's Up?</cite><em class=\"artist\">4 Non Blondes</em></p>,\n",
       " <p class=\"title-artist\"><cite class=\"title\">All the Small Things</cite><em class=\"artist\">blink-182</em></p>,\n",
       " <p class=\"title-artist\"><cite class=\"title\">WAIT FOR U (feat. Drake &amp; Tems)</cite><em class=\"artist\">Future</em></p>,\n",
       " <p class=\"title-artist\"><cite class=\"title\">Livin' On a Prayer</cite><em class=\"artist\">Bon Jovi</em></p>,\n",
       " <p class=\"title-artist\"><cite class=\"title\">Mama He's Crazy</cite><em class=\"artist\">The Judds</em></p>,\n",
       " <p class=\"title-artist\"><cite class=\"title\">Unstoppable</cite><em class=\"artist\">Sia</em></p>,\n",
       " <p class=\"title-artist\"><cite class=\"title\">Love Can Build a Bridge (Single Edit)</cite><em class=\"artist\">The Judds</em></p>,\n",
       " <p class=\"title-artist\"><cite class=\"title\">Wasted On You</cite><em class=\"artist\">Morgan Wallen</em></p>,\n",
       " <p class=\"title-artist\"><cite class=\"title\">Shivers</cite><em class=\"artist\">Ed Sheeran</em></p>,\n",
       " <p class=\"title-artist\"><cite class=\"title\">Every Breath You Take</cite><em class=\"artist\">The Police</em></p>,\n",
       " <p class=\"title-artist\"><cite class=\"title\">Tubthumping</cite><em class=\"artist\">Chumbawamba</em></p>,\n",
       " <p class=\"title-artist\"><cite class=\"title\">Enemy (From the series \"Arcane League of Legends\")</cite><em class=\"artist\">Imagine Dragons, JID &amp; League of Legends</em></p>,\n",
       " <p class=\"title-artist\"><cite class=\"title\">In Jesus Name (God Of Possible)</cite><em class=\"artist\">Katy Nichole</em></p>,\n",
       " <p class=\"title-artist\"><cite class=\"title\">Zombie</cite><em class=\"artist\">The Cranberries</em></p>,\n",
       " <p class=\"title-artist\"><cite class=\"title\">Jack &amp; Diane</cite><em class=\"artist\">John Mellencamp</em></p>,\n",
       " <p class=\"title-artist\"><cite class=\"title\">Like a Prayer (Live)</cite><em class=\"artist\">Miley Cyrus</em></p>,\n",
       " <p class=\"title-artist\"><cite class=\"title\">Big Energy (Remix) [feat. DJ Khaled]</cite><em class=\"artist\">Latto &amp; Mariah Carey</em></p>,\n",
       " <p class=\"title-artist\"><cite class=\"title\">Fancy Like</cite><em class=\"artist\">Walker Hayes</em></p>,\n",
       " <p class=\"title-artist\"><cite class=\"title\">Heat Waves</cite><em class=\"artist\">Glass Animals</em></p>,\n",
       " <p class=\"title-artist\"><cite class=\"title\">Mr. Jones</cite><em class=\"artist\">Counting Crows</em></p>,\n",
       " <p class=\"title-artist\"><cite class=\"title\">Never Say Never</cite><em class=\"artist\">Cole Swindell &amp; Lainey Wilson</em></p>,\n",
       " <p class=\"title-artist\"><cite class=\"title\">Wonderful Tonight</cite><em class=\"artist\">Eric Clapton</em></p>,\n",
       " <p class=\"title-artist\"><cite class=\"title\">That's What Love Is</cite><em class=\"artist\">Alexandra Kay</em></p>,\n",
       " <p class=\"title-artist\"><cite class=\"title\">Numb Little Bug</cite><em class=\"artist\">Em Beihold</em></p>,\n",
       " <p class=\"title-artist\"><cite class=\"title\">One Headlight</cite><em class=\"artist\">The Wallflowers</em></p>,\n",
       " <p class=\"title-artist\"><cite class=\"title\">Bad Moon Rising</cite><em class=\"artist\">Creedence Clearwater Revival</em></p>,\n",
       " <p class=\"title-artist\"><cite class=\"title\">We Don't Talk About Bruno</cite><em class=\"artist\">Carolina Gaitán - La Gaita, Mauro Castillo, Adassa, Rhenzy Feliz, Diane Guerrero, Stephanie Beatriz &amp; Encanto - Cast</em></p>,\n",
       " <p class=\"title-artist\"><cite class=\"title\">I'M ON ONE (feat. Drake)</cite><em class=\"artist\">Future</em></p>,\n",
       " <p class=\"title-artist\"><cite class=\"title\">When You Were Young</cite><em class=\"artist\">The Killers</em></p>,\n",
       " <p class=\"title-artist\"><cite class=\"title\">Summer of '69</cite><em class=\"artist\">Bryan Adams</em></p>,\n",
       " <p class=\"title-artist\"><cite class=\"title\">PROVENZA</cite><em class=\"artist\">KAROL G</em></p>,\n",
       " <p class=\"title-artist\"><cite class=\"title\">Ghost</cite><em class=\"artist\">Justin Bieber</em></p>,\n",
       " <p class=\"title-artist\"><cite class=\"title\">Fortunate Son</cite><em class=\"artist\">Creedence Clearwater Revival</em></p>,\n",
       " <p class=\"title-artist\"><cite class=\"title\">Sand In My Boots</cite><em class=\"artist\">Morgan Wallen</em></p>,\n",
       " <p class=\"title-artist\"><cite class=\"title\">Drunk (And I Don't Wanna Go Home)</cite><em class=\"artist\">Elle King &amp; Miranda Lambert</em></p>,\n",
       " <p class=\"title-artist\"><cite class=\"title\">Buy Dirt (feat. Luke Bryan)</cite><em class=\"artist\">Jordan Davis</em></p>,\n",
       " <p class=\"title-artist\"><cite class=\"title\">The Motto</cite><em class=\"artist\">Tiësto &amp; Ava Max</em></p>,\n",
       " <p class=\"title-artist\"><cite class=\"title\">Flowers</cite><em class=\"artist\">Lauren Spencer-Smith</em></p>,\n",
       " <p class=\"title-artist\"><cite class=\"title\">Take My Name</cite><em class=\"artist\">Parmalee</em></p>,\n",
       " <p class=\"title-artist\"><cite class=\"title\">Thousand Miles</cite><em class=\"artist\">The Kid LAROI</em></p>,\n",
       " <p class=\"title-artist\"><cite class=\"title\">Freaky Deaky</cite><em class=\"artist\">Tyga &amp; Doja Cat</em></p>,\n",
       " <p class=\"title-artist\"><cite class=\"title\">Tennessee Whiskey</cite><em class=\"artist\">Chris Stapleton</em></p>,\n",
       " <p class=\"title-artist\"><cite class=\"title\">2step (feat. Lil Baby)</cite><em class=\"artist\">Ed Sheeran</em></p>,\n",
       " <p class=\"title-artist\"><cite class=\"title\">When You're Gone</cite><em class=\"artist\">Shawn Mendes</em></p>,\n",
       " <p class=\"title-artist\"><cite class=\"title\">Love Me More</cite><em class=\"artist\">Sam Smith</em></p>,\n",
       " <p class=\"title-artist\"><cite class=\"title\">Actin' Up</cite><em class=\"artist\">Miranda Lambert</em></p>,\n",
       " <p class=\"title-artist\"><cite class=\"title\">Tomorrow Me</cite><em class=\"artist\">Luke Combs</em></p>,\n",
       " <p class=\"title-artist\"><cite class=\"title\">Keith</cite><em class=\"artist\">Kaylee Bell</em></p>,\n",
       " <p class=\"title-artist\"><cite class=\"title\">Rockstar</cite><em class=\"artist\">Nickelback</em></p>,\n",
       " <p class=\"title-artist\"><cite class=\"title\">Shine</cite><em class=\"artist\">Collective Soul</em></p>,\n",
       " <p class=\"title-artist\"><cite class=\"title\">The Boys of Summer</cite><em class=\"artist\">Don Henley</em></p>,\n",
       " <p class=\"title-artist\"><cite class=\"title\">Rockin' with the Rhythm of the Rain</cite><em class=\"artist\">The Judds</em></p>,\n",
       " <p class=\"title-artist\"><cite class=\"title\">GIVE HEAVEN SOME HELL</cite><em class=\"artist\">HARDY</em></p>,\n",
       " <p class=\"title-artist\"><cite class=\"title\">Bitter Sweet Symphony</cite><em class=\"artist\">The Verve</em></p>,\n",
       " <p class=\"title-artist\"><cite class=\"title\">Something In The Way</cite><em class=\"artist\">Nirvana</em></p>,\n",
       " <p class=\"title-artist\"><cite class=\"title\">Young Love (Strong Love)</cite><em class=\"artist\">The Judds</em></p>,\n",
       " <p class=\"title-artist\"><cite class=\"title\">Honest (feat. Don Toliver)</cite><em class=\"artist\">Justin Bieber</em></p>,\n",
       " <p class=\"title-artist\"><cite class=\"title\">Fly Away</cite><em class=\"artist\">Lenny Kravitz</em></p>,\n",
       " <p class=\"title-artist\"><cite class=\"title\">Damn Strait</cite><em class=\"artist\">Scotty McCreery</em></p>,\n",
       " <p class=\"title-artist\"><cite class=\"title\">Fall In Love</cite><em class=\"artist\">Bailey Zimmerman</em></p>,\n",
       " <p class=\"title-artist\"><cite class=\"title\">In The Stars</cite><em class=\"artist\">Benson Boone</em></p>,\n",
       " <p class=\"title-artist\"><cite class=\"title\">Mr. Brightside</cite><em class=\"artist\">The Killers</em></p>,\n",
       " <p class=\"title-artist\"><cite class=\"title\">The Reason</cite><em class=\"artist\">Hoobastank</em></p>,\n",
       " <p class=\"title-artist\"><cite class=\"title\">Mama He's Crazy</cite><em class=\"artist\">The Judds</em></p>,\n",
       " <p class=\"title-artist\"><cite class=\"title\">Sweet Child O' Mine</cite><em class=\"artist\">Guns N' Roses</em></p>,\n",
       " <p class=\"title-artist\"><cite class=\"title\">Have Mercy</cite><em class=\"artist\">The Judds</em></p>,\n",
       " <p class=\"title-artist\"><cite class=\"title\">Flower Shops (feat. Morgan Wallen)</cite><em class=\"artist\">ERNEST</em></p>,\n",
       " <p class=\"title-artist\"><cite class=\"title\">Rebel Yell</cite><em class=\"artist\">Billy Idol</em></p>,\n",
       " <p class=\"title-artist\"><cite class=\"title\">I Won't Back Down</cite><em class=\"artist\">Tom Petty</em></p>,\n",
       " <p class=\"title-artist\"><cite class=\"title\">Doin' This</cite><em class=\"artist\">Luke Combs</em></p>,\n",
       " <p class=\"title-artist\"><cite class=\"title\">Trouble With A Heartbreak</cite><em class=\"artist\">Jason Aldean</em></p>,\n",
       " <p class=\"title-artist\"><cite class=\"title\">You Should Probably Leave</cite><em class=\"artist\">Chris Stapleton</em></p>,\n",
       " <p class=\"title-artist\"><cite class=\"title\">Something to Talk About</cite><em class=\"artist\">Bonnie Raitt</em></p>,\n",
       " <p class=\"title-artist\"><cite class=\"title\">Easy On Me</cite><em class=\"artist\">Adele</em></p>,\n",
       " <p class=\"title-artist\"><cite class=\"title\">Big Energy</cite><em class=\"artist\">Latto</em></p>,\n",
       " <p class=\"title-artist\"><cite class=\"title\">Boyfriend</cite><em class=\"artist\">Dove Cameron</em></p>,\n",
       " <p class=\"title-artist\"><cite class=\"title\">Down On the Corner</cite><em class=\"artist\">Creedence Clearwater Revival</em></p>,\n",
       " <p class=\"title-artist\"><cite class=\"title\">Spirit In the Sky</cite><em class=\"artist\">Norman Greenbaum</em></p>,\n",
       " <p class=\"title-artist\"><cite class=\"title\">This Place Called USA</cite><em class=\"artist\">Creed Fisher</em></p>,\n",
       " <p class=\"title-artist\"><cite class=\"title\">Cold</cite><em class=\"artist\">Chris Stapleton</em></p>,\n",
       " <p class=\"title-artist\"><cite class=\"title\">With you</cite><em class=\"artist\">Jimin &amp; HA SUNG WOON</em></p>]"
      ]
     },
     "execution_count": 5,
     "metadata": {},
     "output_type": "execute_result"
    }
   ],
   "source": [
    "soup.select('div.chart-content.col-xs-12.col-sm-8 > p')"
   ]
  },
  {
   "cell_type": "code",
   "execution_count": 6,
   "id": "468adf49",
   "metadata": {},
   "outputs": [
    {
     "data": {
      "text/plain": [
       "'That That (prod. & feat. SUGA of BTS)'"
      ]
     },
     "execution_count": 6,
     "metadata": {},
     "output_type": "execute_result"
    }
   ],
   "source": [
    "soup.select('p cite')[0].get_text()"
   ]
  },
  {
   "cell_type": "code",
   "execution_count": 7,
   "id": "9312bd81",
   "metadata": {},
   "outputs": [
    {
     "data": {
      "text/plain": [
       "'PSY'"
      ]
     },
     "execution_count": 7,
     "metadata": {},
     "output_type": "execute_result"
    }
   ],
   "source": [
    "soup.select('p em')[0].get_text()"
   ]
  },
  {
   "cell_type": "code",
   "execution_count": 8,
   "id": "8c32854a",
   "metadata": {},
   "outputs": [
    {
     "name": "stdout",
     "output_type": "stream",
     "text": [
      "100\n",
      "100\n"
     ]
    }
   ],
   "source": [
    "title = []\n",
    "artist = []\n",
    "num_iter = len(soup.select('div.chart-content.col-xs-12.col-sm-8 > p'))\n",
    "\n",
    "for i in range((num_iter)):\n",
    "    title.append(soup.select('p cite')[i].get_text())\n",
    "    artist.append(soup.select('p em')[i].get_text())\n",
    "print(len(artist))\n",
    "print(len(title))"
   ]
  },
  {
   "cell_type": "code",
   "execution_count": 9,
   "id": "2c50cb23",
   "metadata": {},
   "outputs": [],
   "source": [
    "hits = pd.DataFrame({\"title\":title,\n",
    "                       \"artist\": artist,\n",
    "                      })"
   ]
  },
  {
   "cell_type": "code",
   "execution_count": 10,
   "id": "969714ee",
   "metadata": {},
   "outputs": [
    {
     "data": {
      "text/html": [
       "<div>\n",
       "<style scoped>\n",
       "    .dataframe tbody tr th:only-of-type {\n",
       "        vertical-align: middle;\n",
       "    }\n",
       "\n",
       "    .dataframe tbody tr th {\n",
       "        vertical-align: top;\n",
       "    }\n",
       "\n",
       "    .dataframe thead th {\n",
       "        text-align: right;\n",
       "    }\n",
       "</style>\n",
       "<table border=\"1\" class=\"dataframe\">\n",
       "  <thead>\n",
       "    <tr style=\"text-align: right;\">\n",
       "      <th></th>\n",
       "      <th>title</th>\n",
       "      <th>artist</th>\n",
       "    </tr>\n",
       "  </thead>\n",
       "  <tbody>\n",
       "    <tr>\n",
       "      <th>0</th>\n",
       "      <td>That That (prod. &amp; feat. SUGA of BTS)</td>\n",
       "      <td>PSY</td>\n",
       "    </tr>\n",
       "    <tr>\n",
       "      <th>1</th>\n",
       "      <td>As It Was</td>\n",
       "      <td>Harry Styles</td>\n",
       "    </tr>\n",
       "    <tr>\n",
       "      <th>2</th>\n",
       "      <td>First Class</td>\n",
       "      <td>Jack Harlow</td>\n",
       "    </tr>\n",
       "    <tr>\n",
       "      <th>3</th>\n",
       "      <td>Grandpa (Tell Me 'Bout the Good Old Days)</td>\n",
       "      <td>The Judds</td>\n",
       "    </tr>\n",
       "    <tr>\n",
       "      <th>4</th>\n",
       "      <td>About Damn Time</td>\n",
       "      <td>Lizzo</td>\n",
       "    </tr>\n",
       "    <tr>\n",
       "      <th>...</th>\n",
       "      <td>...</td>\n",
       "      <td>...</td>\n",
       "    </tr>\n",
       "    <tr>\n",
       "      <th>95</th>\n",
       "      <td>Down On the Corner</td>\n",
       "      <td>Creedence Clearwater Revival</td>\n",
       "    </tr>\n",
       "    <tr>\n",
       "      <th>96</th>\n",
       "      <td>Spirit In the Sky</td>\n",
       "      <td>Norman Greenbaum</td>\n",
       "    </tr>\n",
       "    <tr>\n",
       "      <th>97</th>\n",
       "      <td>This Place Called USA</td>\n",
       "      <td>Creed Fisher</td>\n",
       "    </tr>\n",
       "    <tr>\n",
       "      <th>98</th>\n",
       "      <td>Cold</td>\n",
       "      <td>Chris Stapleton</td>\n",
       "    </tr>\n",
       "    <tr>\n",
       "      <th>99</th>\n",
       "      <td>With you</td>\n",
       "      <td>Jimin &amp; HA SUNG WOON</td>\n",
       "    </tr>\n",
       "  </tbody>\n",
       "</table>\n",
       "<p>100 rows × 2 columns</p>\n",
       "</div>"
      ],
      "text/plain": [
       "                                        title                        artist\n",
       "0       That That (prod. & feat. SUGA of BTS)                           PSY\n",
       "1                                   As It Was                  Harry Styles\n",
       "2                                 First Class                   Jack Harlow\n",
       "3   Grandpa (Tell Me 'Bout the Good Old Days)                     The Judds\n",
       "4                             About Damn Time                         Lizzo\n",
       "..                                        ...                           ...\n",
       "95                         Down On the Corner  Creedence Clearwater Revival\n",
       "96                          Spirit In the Sky              Norman Greenbaum\n",
       "97                      This Place Called USA                  Creed Fisher\n",
       "98                                       Cold               Chris Stapleton\n",
       "99                                   With you          Jimin & HA SUNG WOON\n",
       "\n",
       "[100 rows x 2 columns]"
      ]
     },
     "execution_count": 10,
     "metadata": {},
     "output_type": "execute_result"
    }
   ],
   "source": [
    "hits"
   ]
  },
  {
   "cell_type": "code",
   "execution_count": 12,
   "id": "e6c0bae5",
   "metadata": {},
   "outputs": [
    {
     "data": {
      "text/html": [
       "<div>\n",
       "<style scoped>\n",
       "    .dataframe tbody tr th:only-of-type {\n",
       "        vertical-align: middle;\n",
       "    }\n",
       "\n",
       "    .dataframe tbody tr th {\n",
       "        vertical-align: top;\n",
       "    }\n",
       "\n",
       "    .dataframe thead th {\n",
       "        text-align: right;\n",
       "    }\n",
       "</style>\n",
       "<table border=\"1\" class=\"dataframe\">\n",
       "  <thead>\n",
       "    <tr style=\"text-align: right;\">\n",
       "      <th></th>\n",
       "      <th>title</th>\n",
       "      <th>artist</th>\n",
       "    </tr>\n",
       "  </thead>\n",
       "  <tbody>\n",
       "    <tr>\n",
       "      <th>0</th>\n",
       "      <td>THAT THAT</td>\n",
       "      <td>PSY</td>\n",
       "    </tr>\n",
       "    <tr>\n",
       "      <th>1</th>\n",
       "      <td>AS IT WAS</td>\n",
       "      <td>HARRY STYLES</td>\n",
       "    </tr>\n",
       "    <tr>\n",
       "      <th>2</th>\n",
       "      <td>FIRST CLASS</td>\n",
       "      <td>JACK HARLOW</td>\n",
       "    </tr>\n",
       "    <tr>\n",
       "      <th>3</th>\n",
       "      <td>GRANDPA</td>\n",
       "      <td>THE JUDDS</td>\n",
       "    </tr>\n",
       "    <tr>\n",
       "      <th>4</th>\n",
       "      <td>ABOUT DAMN TIME</td>\n",
       "      <td>LIZZO</td>\n",
       "    </tr>\n",
       "    <tr>\n",
       "      <th>...</th>\n",
       "      <td>...</td>\n",
       "      <td>...</td>\n",
       "    </tr>\n",
       "    <tr>\n",
       "      <th>95</th>\n",
       "      <td>DOWN ON THE CORNER</td>\n",
       "      <td>CREEDENCE CLEARWATER REVIVAL</td>\n",
       "    </tr>\n",
       "    <tr>\n",
       "      <th>96</th>\n",
       "      <td>SPIRIT IN THE SKY</td>\n",
       "      <td>NORMAN GREENBAUM</td>\n",
       "    </tr>\n",
       "    <tr>\n",
       "      <th>97</th>\n",
       "      <td>THIS PLACE CALLED USA</td>\n",
       "      <td>CREED FISHER</td>\n",
       "    </tr>\n",
       "    <tr>\n",
       "      <th>98</th>\n",
       "      <td>COLD</td>\n",
       "      <td>CHRIS STAPLETON</td>\n",
       "    </tr>\n",
       "    <tr>\n",
       "      <th>99</th>\n",
       "      <td>WITH YOU</td>\n",
       "      <td>JIMIN &amp; HA SUNG WOON</td>\n",
       "    </tr>\n",
       "  </tbody>\n",
       "</table>\n",
       "<p>100 rows × 2 columns</p>\n",
       "</div>"
      ],
      "text/plain": [
       "                    title                        artist\n",
       "0              THAT THAT                            PSY\n",
       "1               AS IT WAS                  HARRY STYLES\n",
       "2             FIRST CLASS                   JACK HARLOW\n",
       "3                GRANDPA                      THE JUDDS\n",
       "4         ABOUT DAMN TIME                         LIZZO\n",
       "..                    ...                           ...\n",
       "95     DOWN ON THE CORNER  CREEDENCE CLEARWATER REVIVAL\n",
       "96      SPIRIT IN THE SKY              NORMAN GREENBAUM\n",
       "97  THIS PLACE CALLED USA                  CREED FISHER\n",
       "98                   COLD               CHRIS STAPLETON\n",
       "99               WITH YOU          JIMIN & HA SUNG WOON\n",
       "\n",
       "[100 rows x 2 columns]"
      ]
     },
     "execution_count": 12,
     "metadata": {},
     "output_type": "execute_result"
    }
   ],
   "source": [
    "hits['title']= list(map(lambda x: x.split('(')[0], hits['title']))\n",
    "hits['title'] = list(map(lambda x: x.upper(), hits['title']))\n",
    "hits['artist'] = list(map(lambda x: x.upper(), hits['artist']))\n",
    "hits"
   ]
  },
  {
   "cell_type": "code",
   "execution_count": 14,
   "id": "a1238136",
   "metadata": {},
   "outputs": [
    {
     "name": "stdout",
     "output_type": "stream",
     "text": [
      "Choose \"song\" or \"artist\":\n",
      "artist\n",
      "Enter an artist: \n",
      "harry styles\n",
      "Your song recomentation is: LOVE CAN BUILD A BRIDGE  by THE JUDDS\n"
     ]
    }
   ],
   "source": [
    "import random \n",
    "print('Choose \"song\" or \"artist\":')\n",
    "\n",
    "songart = input()\n",
    "songart = songart.lower()\n",
    "\n",
    "if songart == 'song':\n",
    "    print('Enter a song: ')\n",
    "    song = input()\n",
    "    song = song.upper()\n",
    "\n",
    "    if song in str(hits['title']):\n",
    "        random_index = random.randint(0, len(hits.title)-1)\n",
    "        print('Your song recomentation is:', hits['title'][random_index], 'by', hits['artist'][random_index])\n",
    "    else:\n",
    "        print('Sorry we have no recomendations for you yet')\n",
    "\n",
    "elif songart == 'artist':\n",
    "    print('Enter an artist: ')\n",
    "    artist = input()\n",
    "    artist = artist.upper()\n",
    "\n",
    "    if artist in str(hits['artist']):\n",
    "        random_index = random.randint(0, len(hits.title)-1)\n",
    "        print('Your song recomentation is:', hits['title'][random_index], 'by', hits['artist'][random_index])\n",
    "    else:\n",
    "        print('Sorry we have no recomendations for you yet')\n",
    "\n",
    "else:\n",
    "    print('We could not recognize that. Please enter \"song\" or \"artist\".')\n"
   ]
  },
  {
   "cell_type": "code",
   "execution_count": null,
   "id": "d6a3c856",
   "metadata": {},
   "outputs": [],
   "source": [
    "x = input()\n",
    "x = x.lower()\n",
    "\n",
    "print(x)"
   ]
  }
 ],
 "metadata": {
  "kernelspec": {
   "display_name": "Python 3 (ipykernel)",
   "language": "python",
   "name": "python3"
  },
  "language_info": {
   "codemirror_mode": {
    "name": "ipython",
    "version": 3
   },
   "file_extension": ".py",
   "mimetype": "text/x-python",
   "name": "python",
   "nbconvert_exporter": "python",
   "pygments_lexer": "ipython3",
   "version": "3.9.7"
  }
 },
 "nbformat": 4,
 "nbformat_minor": 5
}
